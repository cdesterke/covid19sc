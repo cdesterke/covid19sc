{
 "cells": [
  {
   "cell_type": "markdown",
   "metadata": {},
   "source": [
    "# tutorial of FOS (THP1) ChIP sequencing analysis with integration in transcriptome of COVID19 lung"
   ]
  },
  {
   "cell_type": "raw",
   "metadata": {},
   "source": [
    "this tutorial in R language will show you a R tutorial to process ChIP sequencing analysis post BETA cistrome annotation and integration of transcriptome data post limma analysis. The data used in this tutorial are available at the following address: https://github.com/cdesterke/covid19sc/chipdata "
   ]
  },
  {
   "cell_type": "code",
   "execution_count": 1,
   "metadata": {},
   "outputs": [
    {
     "name": "stderr",
     "output_type": "stream",
     "text": [
      "Warning message:\n",
      "\"package 'dplyr' was built under R version 3.6.3\"\n",
      "Attaching package: 'dplyr'\n",
      "\n",
      "The following objects are masked from 'package:stats':\n",
      "\n",
      "    filter, lag\n",
      "\n",
      "The following objects are masked from 'package:base':\n",
      "\n",
      "    intersect, setdiff, setequal, union\n",
      "\n",
      "Loading required package: AnnotationDbi\n",
      "Loading required package: stats4\n",
      "Loading required package: BiocGenerics\n",
      "Loading required package: parallel\n",
      "\n",
      "Attaching package: 'BiocGenerics'\n",
      "\n",
      "The following objects are masked from 'package:parallel':\n",
      "\n",
      "    clusterApply, clusterApplyLB, clusterCall, clusterEvalQ,\n",
      "    clusterExport, clusterMap, parApply, parCapply, parLapply,\n",
      "    parLapplyLB, parRapply, parSapply, parSapplyLB\n",
      "\n",
      "The following objects are masked from 'package:dplyr':\n",
      "\n",
      "    combine, intersect, setdiff, union\n",
      "\n",
      "The following objects are masked from 'package:stats':\n",
      "\n",
      "    IQR, mad, sd, var, xtabs\n",
      "\n",
      "The following objects are masked from 'package:base':\n",
      "\n",
      "    anyDuplicated, append, as.data.frame, basename, cbind, colnames,\n",
      "    dirname, do.call, duplicated, eval, evalq, Filter, Find, get, grep,\n",
      "    grepl, intersect, is.unsorted, lapply, Map, mapply, match, mget,\n",
      "    order, paste, pmax, pmax.int, pmin, pmin.int, Position, rank,\n",
      "    rbind, Reduce, rownames, sapply, setdiff, sort, table, tapply,\n",
      "    union, unique, unsplit, which, which.max, which.min\n",
      "\n",
      "Loading required package: Biobase\n",
      "Welcome to Bioconductor\n",
      "\n",
      "    Vignettes contain introductory material; view with\n",
      "    'browseVignettes()'. To cite Bioconductor, see\n",
      "    'citation(\"Biobase\")', and for packages 'citation(\"pkgname\")'.\n",
      "\n",
      "Loading required package: IRanges\n",
      "Warning message:\n",
      "\"package 'IRanges' was built under R version 3.6.2\"Loading required package: S4Vectors\n",
      "Warning message:\n",
      "\"package 'S4Vectors' was built under R version 3.6.3\"\n",
      "Attaching package: 'S4Vectors'\n",
      "\n",
      "The following objects are masked from 'package:dplyr':\n",
      "\n",
      "    first, rename\n",
      "\n",
      "The following object is masked from 'package:base':\n",
      "\n",
      "    expand.grid\n",
      "\n",
      "\n",
      "Attaching package: 'IRanges'\n",
      "\n",
      "The following objects are masked from 'package:dplyr':\n",
      "\n",
      "    collapse, desc, slice\n",
      "\n",
      "The following object is masked from 'package:grDevices':\n",
      "\n",
      "    windows\n",
      "\n",
      "\n",
      "Attaching package: 'AnnotationDbi'\n",
      "\n",
      "The following object is masked from 'package:dplyr':\n",
      "\n",
      "    select\n",
      "\n",
      "\n",
      "Loading required package: GenomicFeatures\n",
      "Warning message:\n",
      "\"package 'GenomicFeatures' was built under R version 3.6.2\"Loading required package: GenomeInfoDb\n",
      "Warning message:\n",
      "\"package 'GenomeInfoDb' was built under R version 3.6.3\"Loading required package: GenomicRanges\n",
      "Warning message:\n",
      "\"package 'ChIPseeker' was built under R version 3.6.2\"\n",
      "Registered S3 method overwritten by 'enrichplot':\n",
      "  method               from\n",
      "  fortify.enrichResult DOSE\n",
      "ChIPseeker v1.22.1  For help: https://guangchuangyu.github.io/software/ChIPseeker\n",
      "\n",
      "If you use ChIPseeker in published research, please cite:\n",
      "Guangchuang Yu, Li-Gen Wang, Qing-Yu He. ChIPseeker: an R/Bioconductor package for ChIP peak annotation, comparison and visualization. Bioinformatics 2015, 31(14):2382-2383\n",
      "Warning message:\n",
      "\"package 'ggplot2' was built under R version 3.6.3\"Warning message:\n",
      "\"package 'ggrepel' was built under R version 3.6.3\""
     ]
    }
   ],
   "source": [
    "## load libraries\n",
    "library(dplyr)\n",
    "library(org.Hs.eg.db)\n",
    "library(TxDb.Hsapiens.UCSC.hg38.knownGene)\n",
    "library(ChIPseeker)\n",
    "library(ggplot2)\n",
    "library(ggrepel)"
   ]
  },
  {
   "cell_type": "markdown",
   "metadata": {},
   "source": [
    "### First step is to load and preprocess ChIP data of FOS transcription factor in THP1 aligned on HG38 genome"
   ]
  },
  {
   "cell_type": "code",
   "execution_count": 2,
   "metadata": {},
   "outputs": [
    {
     "name": "stdout",
     "output_type": "stream",
     "text": [
      "[1] \"dimension before filtration\"\n"
     ]
    },
    {
     "data": {
      "text/html": [
       "<ol class=list-inline>\n",
       "\t<li>15378</li>\n",
       "\t<li>8</li>\n",
       "</ol>\n"
      ],
      "text/latex": [
       "\\begin{enumerate*}\n",
       "\\item 15378\n",
       "\\item 8\n",
       "\\end{enumerate*}\n"
      ],
      "text/markdown": [
       "1. 15378\n",
       "2. 8\n",
       "\n",
       "\n"
      ],
      "text/plain": [
       "[1] 15378     8"
      ]
     },
     "metadata": {},
     "output_type": "display_data"
    },
    {
     "data": {
      "text/html": [
       "<table>\n",
       "<thead><tr><th scope=col>chr</th><th scope=col>start</th><th scope=col>end</th><th scope=col>peaknb</th><th scope=col>peakscore</th><th scope=col>name</th></tr></thead>\n",
       "<tbody>\n",
       "\t<tr><td>chr1        </td><td>  629856    </td><td>  630439    </td><td>peak1       </td><td>27.57599    </td><td>MIR6723     </td></tr>\n",
       "\t<tr><td>chr1        </td><td>  629856    </td><td>  630439    </td><td>peak1       </td><td>27.57599    </td><td>LOC101928626</td></tr>\n",
       "\t<tr><td>chr12       </td><td>54383216    </td><td>54383391    </td><td>peak1002    </td><td> 5.02302    </td><td>ZNF385A     </td></tr>\n",
       "\t<tr><td>chr12       </td><td>54423277    </td><td>54423451    </td><td>peak1004    </td><td> 6.44837    </td><td>ITGA5       </td></tr>\n",
       "\t<tr><td>chr12       </td><td>54423277    </td><td>54423451    </td><td>peak1004    </td><td> 6.44837    </td><td>LOC102724050</td></tr>\n",
       "\t<tr><td>chr12       </td><td>55842914    </td><td>55843099    </td><td>peak1007    </td><td> 8.42995    </td><td>MMP19       </td></tr>\n",
       "</tbody>\n",
       "</table>\n"
      ],
      "text/latex": [
       "\\begin{tabular}{r|llllll}\n",
       " chr & start & end & peaknb & peakscore & name\\\\\n",
       "\\hline\n",
       "\t chr1         &   629856     &   630439     & peak1        & 27.57599     & MIR6723     \\\\\n",
       "\t chr1         &   629856     &   630439     & peak1        & 27.57599     & LOC101928626\\\\\n",
       "\t chr12        & 54383216     & 54383391     & peak1002     &  5.02302     & ZNF385A     \\\\\n",
       "\t chr12        & 54423277     & 54423451     & peak1004     &  6.44837     & ITGA5       \\\\\n",
       "\t chr12        & 54423277     & 54423451     & peak1004     &  6.44837     & LOC102724050\\\\\n",
       "\t chr12        & 55842914     & 55843099     & peak1007     &  8.42995     & MMP19       \\\\\n",
       "\\end{tabular}\n"
      ],
      "text/markdown": [
       "\n",
       "| chr | start | end | peaknb | peakscore | name |\n",
       "|---|---|---|---|---|---|\n",
       "| chr1         |   629856     |   630439     | peak1        | 27.57599     | MIR6723      |\n",
       "| chr1         |   629856     |   630439     | peak1        | 27.57599     | LOC101928626 |\n",
       "| chr12        | 54383216     | 54383391     | peak1002     |  5.02302     | ZNF385A      |\n",
       "| chr12        | 54423277     | 54423451     | peak1004     |  6.44837     | ITGA5        |\n",
       "| chr12        | 54423277     | 54423451     | peak1004     |  6.44837     | LOC102724050 |\n",
       "| chr12        | 55842914     | 55843099     | peak1007     |  8.42995     | MMP19        |\n",
       "\n"
      ],
      "text/plain": [
       "  chr   start    end      peaknb   peakscore name        \n",
       "1 chr1    629856   630439 peak1    27.57599  MIR6723     \n",
       "2 chr1    629856   630439 peak1    27.57599  LOC101928626\n",
       "3 chr12 54383216 54383391 peak1002  5.02302  ZNF385A     \n",
       "4 chr12 54423277 54423451 peak1004  6.44837  ITGA5       \n",
       "5 chr12 54423277 54423451 peak1004  6.44837  LOC102724050\n",
       "6 chr12 55842914 55843099 peak1007  8.42995  MMP19       "
      ]
     },
     "metadata": {},
     "output_type": "display_data"
    },
    {
     "name": "stdout",
     "output_type": "stream",
     "text": [
      "[1] \"dimension before filtration\"\n"
     ]
    },
    {
     "data": {
      "text/html": [
       "<ol class=list-inline>\n",
       "\t<li>772</li>\n",
       "\t<li>6</li>\n",
       "</ol>\n"
      ],
      "text/latex": [
       "\\begin{enumerate*}\n",
       "\\item 772\n",
       "\\item 6\n",
       "\\end{enumerate*}\n"
      ],
      "text/markdown": [
       "1. 772\n",
       "2. 6\n",
       "\n",
       "\n"
      ],
      "text/plain": [
       "[1] 772   6"
      ]
     },
     "metadata": {},
     "output_type": "display_data"
    }
   ],
   "source": [
    "## load FOS ChIP experiment annotated with BETA cistrome on HG38\n",
    "fos<-read.table(\"fosinput.txt\",header=TRUE)\n",
    "print('dimension before filtration')\n",
    "dim(fos)\n",
    "## select proximal regions and retain unique peaks\n",
    "fos%>%filter(distance > -5000 & distance < 5000)->proximal\n",
    "proximal<-mutate(proximal, name = Gene_Symbol)\n",
    "proximal<-proximal[,-(6:8)]\n",
    "proximal<-distinct(proximal)\n",
    "head(proximal)\n",
    "print('dimension before filtration')\n",
    "dim(proximal)"
   ]
  },
  {
   "cell_type": "code",
   "execution_count": 4,
   "metadata": {},
   "outputs": [],
   "source": [
    "## export peaks\n",
    "write.table(proximal,file=\"proximal.txt\", sep=\"\\t\",row.names=FALSE)"
   ]
  },
  {
   "cell_type": "code",
   "execution_count": 6,
   "metadata": {},
   "outputs": [
    {
     "data": {
      "text/plain": [
       "GRanges object with 772 ranges and 3 metadata columns:\n",
       "        seqnames            ranges strand |   peaknb peakscore         name\n",
       "           <Rle>         <IRanges>  <Rle> | <factor> <numeric>     <factor>\n",
       "    [1]     chr1     629857-630439      * |    peak1  27.57599      MIR6723\n",
       "    [2]     chr1     629857-630439      * |    peak1  27.57599 LOC101928626\n",
       "    [3]    chr12 54383217-54383391      * | peak1002   5.02302      ZNF385A\n",
       "    [4]    chr12 54423278-54423451      * | peak1004   6.44837        ITGA5\n",
       "    [5]    chr12 54423278-54423451      * | peak1004   6.44837 LOC102724050\n",
       "    ...      ...               ...    ... .      ...       ...          ...\n",
       "  [768]    chr12 49268715-49268930      * |  peak992   3.12149       TUBA1C\n",
       "  [769]    chr12 51009265-51009438      * |  peak994   4.86629      SLC11A2\n",
       "  [770]    chr12 51885931-51886204      * |  peak995   5.60677      ANKRD33\n",
       "  [771]    chr12 53099447-53099692      * |  peak999   3.64685       IGFBP6\n",
       "  [772]    chr12 53099447-53099692      * |  peak999   3.64685        SOAT2\n",
       "  -------\n",
       "  seqinfo: 23 sequences from an unspecified genome; no seqlengths"
      ]
     },
     "metadata": {},
     "output_type": "display_data"
    }
   ],
   "source": [
    "## ChIP seeker analysis\n",
    "txdb <- TxDb.Hsapiens.UCSC.hg38.knownGene\n",
    "\n",
    "peak <- readPeakFile(\"proximal.txt\")\n",
    "peak"
   ]
  },
  {
   "cell_type": "code",
   "execution_count": 7,
   "metadata": {},
   "outputs": [
    {
     "data": {
      "image/png": "[encoded data removed]",
      "text/plain": [
       "plot without title"
      ]
     },
     "metadata": {},
     "output_type": "display_data"
    }
   ],
   "source": [
    "## plot peaks\n",
    "covplot(peak, weightCol=\"peakscore\")"
   ]
  },
  {
   "cell_type": "code",
   "execution_count": 8,
   "metadata": {},
   "outputs": [],
   "source": [
    "## promoter analysis\n",
    "promoter <- getPromoters(TxDb=txdb, upstream=5000, downstream=5000)\n",
    "tagMatrix <- getTagMatrix(peak, windows=promoter)"
   ]
  },
  {
   "cell_type": "code",
   "execution_count": 9,
   "metadata": {},
   "outputs": [
    {
     "data": {
      "image/png": "[encoded data removed]",
      "text/plain": [
       "plot without title"
      ]
     },
     "metadata": {},
     "output_type": "display_data"
    }
   ],
   "source": [
    "## plo average distances from TSS\n",
    "plotAvgProf(tagMatrix, xlim=c(-5000, 5000),  xlab=\"Genomic Region (5'->3')\", ylab = \"Read Count Frequency\")"
   ]
  },
  {
   "cell_type": "code",
   "execution_count": 10,
   "metadata": {},
   "outputs": [
    {
     "name": "stdout",
     "output_type": "stream",
     "text": [
      ">> preparing features information...\t\t 2020-11-17 10:13:31 \n",
      ">> identifying nearest features...\t\t 2020-11-17 10:13:33 \n",
      ">> calculating distance from peak to TSS...\t 2020-11-17 10:13:34 \n",
      ">> assigning genomic annotation...\t\t 2020-11-17 10:13:34 \n",
      ">> adding gene annotation...\t\t\t 2020-11-17 10:14:26 \n"
     ]
    },
    {
     "name": "stderr",
     "output_type": "stream",
     "text": [
      "'select()' returned 1:many mapping between keys and columns\n"
     ]
    },
    {
     "name": "stdout",
     "output_type": "stream",
     "text": [
      ">> assigning chromosome lengths\t\t\t 2020-11-17 10:14:26 \n",
      ">> done...\t\t\t\t\t 2020-11-17 10:14:26 \n"
     ]
    }
   ],
   "source": [
    "## annotation of the peaks\n",
    "peakAnno <- annotatePeak(peak, tssRegion=c(-5000, 5000),TxDb=txdb, annoDb=\"org.Hs.eg.db\")"
   ]
  },
  {
   "cell_type": "code",
   "execution_count": 11,
   "metadata": {},
   "outputs": [
    {
     "data": {
      "image/png": "[encoded data removed]",
      "text/plain": [
       "plot without title"
      ]
     },
     "metadata": {},
     "output_type": "display_data"
    }
   ],
   "source": [
    "## plot annotations\n",
    "plotAnnoBar(peakAnno)"
   ]
  },
  {
   "cell_type": "code",
   "execution_count": 12,
   "metadata": {},
   "outputs": [
    {
     "data": {
      "image/png": "[encoded data removed]",
      "text/plain": [
       "plot without title"
      ]
     },
     "metadata": {},
     "output_type": "display_data"
    }
   ],
   "source": [
    "## plot distances to TSS\n",
    "plotDistToTSS(peakAnno,title=\"Distribution of transcription factor-binding loci\\nrelative to TSS\")"
   ]
  },
  {
   "cell_type": "code",
   "execution_count": 13,
   "metadata": {},
   "outputs": [
    {
     "data": {
      "text/html": [
       "<ol class=list-inline>\n",
       "\t<li>21797</li>\n",
       "\t<li>6</li>\n",
       "</ol>\n"
      ],
      "text/latex": [
       "\\begin{enumerate*}\n",
       "\\item 21797\n",
       "\\item 6\n",
       "\\end{enumerate*}\n"
      ],
      "text/markdown": [
       "1. 21797\n",
       "2. 6\n",
       "\n",
       "\n"
      ],
      "text/plain": [
       "[1] 21797     6"
      ]
     },
     "metadata": {},
     "output_type": "display_data"
    }
   ],
   "source": [
    "## import limma results of COVID-19 lung transcriptome\n",
    "lung<-read.table(\"DEG.txt\",header=TRUE)\n",
    "dim(lung)"
   ]
  },
  {
   "cell_type": "code",
   "execution_count": 16,
   "metadata": {},
   "outputs": [
    {
     "data": {
      "text/html": [
       "<ol class=list-inline>\n",
       "\t<li>3700</li>\n",
       "\t<li>8</li>\n",
       "</ol>\n"
      ],
      "text/latex": [
       "\\begin{enumerate*}\n",
       "\\item 3700\n",
       "\\item 8\n",
       "\\end{enumerate*}\n"
      ],
      "text/markdown": [
       "1. 3700\n",
       "2. 8\n",
       "\n",
       "\n"
      ],
      "text/plain": [
       "[1] 3700    8"
      ]
     },
     "metadata": {},
     "output_type": "display_data"
    },
    {
     "data": {
      "text/html": [
       "<table>\n",
       "<thead><tr><th scope=col>logFC</th><th scope=col>AveExpr</th><th scope=col>t</th><th scope=col>P.Value</th><th scope=col>adj.P.Val</th><th scope=col>B</th><th scope=col>name</th><th scope=col>neglogp</th></tr></thead>\n",
       "<tbody>\n",
       "\t<tr><td>10.888505   </td><td> 1.3482723  </td><td>7.911204    </td><td>0.0002122632</td><td>0.06559407  </td><td>-4.583766   </td><td>FDCSP       </td><td>3.673125    </td></tr>\n",
       "\t<tr><td>10.826476   </td><td> 0.7060616  </td><td>8.120364    </td><td>0.0001835461</td><td>0.06559407  </td><td>-4.583705   </td><td>RNASE2      </td><td>3.736255    </td></tr>\n",
       "\t<tr><td> 9.098283   </td><td> 3.1805312  </td><td>3.665710    </td><td>0.0104353027</td><td>0.06559407  </td><td>-4.587041   </td><td>CDR1        </td><td>1.981495    </td></tr>\n",
       "\t<tr><td> 8.855855   </td><td> 0.8817151  </td><td>6.568064    </td><td>0.0005875448</td><td>0.06559407  </td><td>-4.584279   </td><td>CYP19A1     </td><td>3.230959    </td></tr>\n",
       "\t<tr><td> 8.414262   </td><td>-1.2925267  </td><td>5.574672    </td><td>0.0013951530</td><td>0.06559407  </td><td>-4.584868   </td><td>ECRP        </td><td>2.855378    </td></tr>\n",
       "\t<tr><td> 8.398832   </td><td> 1.0772018  </td><td>4.727976    </td><td>0.0031978648</td><td>0.06559407  </td><td>-4.585605   </td><td>CARD17      </td><td>2.495140    </td></tr>\n",
       "</tbody>\n",
       "</table>\n"
      ],
      "text/latex": [
       "\\begin{tabular}{r|llllllll}\n",
       " logFC & AveExpr & t & P.Value & adj.P.Val & B & name & neglogp\\\\\n",
       "\\hline\n",
       "\t 10.888505    &  1.3482723   & 7.911204     & 0.0002122632 & 0.06559407   & -4.583766    & FDCSP        & 3.673125    \\\\\n",
       "\t 10.826476    &  0.7060616   & 8.120364     & 0.0001835461 & 0.06559407   & -4.583705    & RNASE2       & 3.736255    \\\\\n",
       "\t  9.098283    &  3.1805312   & 3.665710     & 0.0104353027 & 0.06559407   & -4.587041    & CDR1         & 1.981495    \\\\\n",
       "\t  8.855855    &  0.8817151   & 6.568064     & 0.0005875448 & 0.06559407   & -4.584279    & CYP19A1      & 3.230959    \\\\\n",
       "\t  8.414262    & -1.2925267   & 5.574672     & 0.0013951530 & 0.06559407   & -4.584868    & ECRP         & 2.855378    \\\\\n",
       "\t  8.398832    &  1.0772018   & 4.727976     & 0.0031978648 & 0.06559407   & -4.585605    & CARD17       & 2.495140    \\\\\n",
       "\\end{tabular}\n"
      ],
      "text/markdown": [
       "\n",
       "| logFC | AveExpr | t | P.Value | adj.P.Val | B | name | neglogp |\n",
       "|---|---|---|---|---|---|---|---|\n",
       "| 10.888505    |  1.3482723   | 7.911204     | 0.0002122632 | 0.06559407   | -4.583766    | FDCSP        | 3.673125     |\n",
       "| 10.826476    |  0.7060616   | 8.120364     | 0.0001835461 | 0.06559407   | -4.583705    | RNASE2       | 3.736255     |\n",
       "|  9.098283    |  3.1805312   | 3.665710     | 0.0104353027 | 0.06559407   | -4.587041    | CDR1         | 1.981495     |\n",
       "|  8.855855    |  0.8817151   | 6.568064     | 0.0005875448 | 0.06559407   | -4.584279    | CYP19A1      | 3.230959     |\n",
       "|  8.414262    | -1.2925267   | 5.574672     | 0.0013951530 | 0.06559407   | -4.584868    | ECRP         | 2.855378     |\n",
       "|  8.398832    |  1.0772018   | 4.727976     | 0.0031978648 | 0.06559407   | -4.585605    | CARD17       | 2.495140     |\n",
       "\n"
      ],
      "text/plain": [
       "  logFC     AveExpr    t        P.Value      adj.P.Val  B         name   \n",
       "1 10.888505  1.3482723 7.911204 0.0002122632 0.06559407 -4.583766 FDCSP  \n",
       "2 10.826476  0.7060616 8.120364 0.0001835461 0.06559407 -4.583705 RNASE2 \n",
       "3  9.098283  3.1805312 3.665710 0.0104353027 0.06559407 -4.587041 CDR1   \n",
       "4  8.855855  0.8817151 6.568064 0.0005875448 0.06559407 -4.584279 CYP19A1\n",
       "5  8.414262 -1.2925267 5.574672 0.0013951530 0.06559407 -4.584868 ECRP   \n",
       "6  8.398832  1.0772018 4.727976 0.0031978648 0.06559407 -4.585605 CARD17 \n",
       "  neglogp \n",
       "1 3.673125\n",
       "2 3.736255\n",
       "3 1.981495\n",
       "4 3.230959\n",
       "5 2.855378\n",
       "6 2.495140"
      ]
     },
     "metadata": {},
     "output_type": "display_data"
    }
   ],
   "source": [
    "## preprocess lung data\n",
    "\n",
    "lung$name<-row.names(lung)\n",
    "\n",
    "lung%>%filter(adj.P.Val <=0.07)%>% arrange(desc(logFC))->corrected\n",
    "\n",
    "corrected%>%mutate(neglogp=-log(P.Value,10))->cor\n",
    "dim(cor)\n",
    "head(cor)\n"
   ]
  },
  {
   "cell_type": "code",
   "execution_count": 17,
   "metadata": {},
   "outputs": [
    {
     "data": {
      "text/html": [
       "<ol class=list-inline>\n",
       "\t<li>66</li>\n",
       "\t<li>13</li>\n",
       "</ol>\n"
      ],
      "text/latex": [
       "\\begin{enumerate*}\n",
       "\\item 66\n",
       "\\item 13\n",
       "\\end{enumerate*}\n"
      ],
      "text/markdown": [
       "1. 66\n",
       "2. 13\n",
       "\n",
       "\n"
      ],
      "text/plain": [
       "[1] 66 13"
      ]
     },
     "metadata": {},
     "output_type": "display_data"
    }
   ],
   "source": [
    "## intercept peaks with transcriptome\n",
    "\n",
    "intercept<-merge(cor,proximal,by=\"name\")\n",
    "dim(intercept)"
   ]
  },
  {
   "cell_type": "code",
   "execution_count": 18,
   "metadata": {},
   "outputs": [
    {
     "data": {
      "image/png": "[encoded data removed]",
      "text/plain": [
       "plot without title"
      ]
     },
     "metadata": {},
     "output_type": "display_data"
    }
   ],
   "source": [
    "## plot intercept analysis between FOS ChIP and COVID-19 lung transcriptome\n",
    "p=ggplot(intercept,aes(neglogp,logFC,size=AveExpr, color=AveExpr))+geom_point()+theme_minimal()\n",
    "p+geom_label_repel(data= subset(intercept, neglogp>=2),aes(label = name),box.padding = 0.35,point.padding = 0.5,segment.color = 'grey50')"
   ]
  },
  {
   "cell_type": "markdown",
   "metadata": {},
   "source": [
    "#### Conclusion: FOS transcription factor induced a transcriptional program in COVID-19 lung monocytes comprising inflammatory molecules (S100A12, MX2, IFI6), lipid metabolism (ALOX5AP, FFAR2), transcription factor LMO1, apototic regulator BCL2A1 and immune molecule FCER1G part of IgE receptor."
   ]
  }
 ],
 "metadata": {
  "kernelspec": {
   "display_name": "R",
   "language": "R",
   "name": "ir"
  },
  "language_info": {
   "codemirror_mode": "r",
   "file_extension": ".r",
   "mimetype": "text/x-r-source",
   "name": "R",
   "pygments_lexer": "r",
   "version": "3.6.1"
  }
 },
 "nbformat": 4,
 "nbformat_minor": 2
}
